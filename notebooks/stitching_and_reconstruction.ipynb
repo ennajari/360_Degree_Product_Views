{
 "cells": [
  {
   "cell_type": "code",
   "execution_count": 22,
   "metadata": {
    "execution": {
     "iopub.execute_input": "2024-08-24T11:59:45.183111Z",
     "iopub.status.busy": "2024-08-24T11:59:45.183111Z",
     "iopub.status.idle": "2024-08-24T11:59:46.172639Z",
     "shell.execute_reply": "2024-08-24T11:59:46.172639Z"
    }
   },
   "outputs": [],
   "source": [
    "import os\n",
    "import cv2\n",
    "import numpy as np\n",
    "import matplotlib.pyplot as plt\n",
    "from scipy.spatial.transform import Rotation as R\n",
    "from mpl_toolkits.mplot3d import Axes3D\n",
    "import time\n",
    "%matplotlib inline"
   ]
  },
  {
   "cell_type": "code",
   "execution_count": 23,
   "metadata": {},
   "outputs": [],
   "source": [
    "def load_images(directory):\n",
    "    images = []\n",
    "    for filename in sorted(os.listdir(directory)):\n",
    "        if filename.endswith(\".jpg\") or filename.endswith(\".png\"):\n",
    "            img_path = os.path.join(directory, filename)\n",
    "            img = cv2.imread(img_path)\n",
    "            if img is not None:\n",
    "                images.append(cv2.cvtColor(img, cv2.COLOR_BGR2RGB))\n",
    "    return images"
   ]
  },
  {
   "cell_type": "code",
   "execution_count": 24,
   "metadata": {},
   "outputs": [
    {
     "name": "stdout",
     "output_type": "stream",
     "text": [
      "Loaded 120 preprocessed images.\n"
     ]
    }
   ],
   "source": [
    "preprocessed_directory = \"../data/preprocessed\"\n",
    "preprocessed_images = load_images(preprocessed_directory)\n",
    "print(f\"Loaded {len(preprocessed_images)} preprocessed images.\")"
   ]
  },
  {
   "cell_type": "code",
   "execution_count": 35,
   "metadata": {},
   "outputs": [],
   "source": [
    "def detect_and_match_features(img1, img2):\n",
    "    sift = cv2.SIFT_create()\n",
    "    kp1, des1 = sift.detectAndCompute(cv2.cvtColor(img1, cv2.COLOR_RGB2GRAY), None)\n",
    "    kp2, des2 = sift.detectAndCompute(cv2.cvtColor(img2, cv2.COLOR_RGB2GRAY), None)\n",
    "    \n",
    "    bf = cv2.BFMatcher()\n",
    "    matches = bf.knnMatch(des1, des2, k=2)\n",
    "    \n",
    "    # Apply ratio test to filter good matches\n",
    "    good_matches = []\n",
    "    for m, n in matches:\n",
    "        if m.distance < 0.75 * n.distance:\n",
    "            good_matches.append(m)\n",
    "    \n",
    "    return kp1, kp2, good_matches"
   ]
  },
  {
   "cell_type": "code",
   "execution_count": 36,
   "metadata": {},
   "outputs": [],
   "source": [
    "def estimate_motion(kp1, kp2, matches, min_matches=10):\n",
    "    if len(matches) < min_matches:\n",
    "        raise ValueError(f\"Not enough matches found: {len(matches)} (minimum required: {min_matches})\")\n",
    "    \n",
    "    src_pts = np.float32([kp1[m.queryIdx].pt for m in matches]).reshape(-1, 1, 2)\n",
    "    dst_pts = np.float32([kp2[m.trainIdx].pt for m in matches]).reshape(-1, 1, 2)\n",
    "    \n",
    "    M, mask = cv2.findHomography(src_pts, dst_pts, cv2.RANSAC, 5.0)\n",
    "    \n",
    "    if M is None:\n",
    "        raise ValueError(\"Homography estimation failed.\")\n",
    "    \n",
    "    return M"
   ]
  },
  {
   "cell_type": "code",
   "execution_count": 28,
   "metadata": {},
   "outputs": [],
   "source": [
    "def estimate_motion(kp1, kp2, matches):\n",
    "    src_pts = np.float32([kp1[m.queryIdx].pt for m in matches]).reshape(-1, 1, 2)\n",
    "    dst_pts = np.float32([kp2[m.trainIdx].pt for m in matches]).reshape(-1, 1, 2)\n",
    "    \n",
    "    M, mask = cv2.findHomography(src_pts, dst_pts, cv2.RANSAC, 5.0)\n",
    "    if M is None:\n",
    "        raise ValueError(\"Homography estimation failed.\")\n",
    "    return M"
   ]
  },
  {
   "cell_type": "code",
   "execution_count": 37,
   "metadata": {},
   "outputs": [],
   "source": [
    "def custom_stitch(images, min_matches=10):\n",
    "    sift = cv2.SIFT_create()\n",
    "    kp_list = []\n",
    "    des_list = []\n",
    "    for img in images:\n",
    "        gray = cv2.cvtColor(img, cv2.COLOR_BGR2GRAY)\n",
    "        kp, des = sift.detectAndCompute(gray, None)\n",
    "        kp_list.append(kp)\n",
    "        des_list.append(des)\n",
    "    \n",
    "    stitched = images[0]\n",
    "    for i in range(1, len(images)):\n",
    "        bf = cv2.BFMatcher()\n",
    "        matches = bf.knnMatch(des_list[i-1], des_list[i], k=2)\n",
    "        good_matches = []\n",
    "        for m, n in matches:\n",
    "            if m.distance < 0.7 * n.distance:\n",
    "                good_matches.append(m)\n",
    "        \n",
    "        try:\n",
    "            # Estimate the homography matrix with a check for minimum matches\n",
    "            M = estimate_motion(kp_list[i-1], kp_list[i], good_matches, min_matches=min_matches)\n",
    "        except ValueError as e:\n",
    "            print(f\"Skipping image {i} due to error: {e}\")\n",
    "            continue  # Skip this image if there are not enough matches or if homography fails\n",
    "        \n",
    "        # Convert the matrix to float32 if necessary\n",
    "        M = M.astype(np.float32)\n",
    "        \n",
    "        # Resize the next image to match the stitched image height\n",
    "        h1, w1 = stitched.shape[:2]\n",
    "        img_resized = cv2.resize(images[i], (images[i].shape[1], h1))  # Match the height of the stitched image\n",
    "        \n",
    "        # Warp the next image based on the homography matrix\n",
    "        stitched = cv2.warpPerspective(stitched, M, (stitched.shape[1] + img_resized.shape[1], h1))\n",
    "        \n",
    "        # Place the next image on the canvas\n",
    "        stitched[0:h1, w1:w1+img_resized.shape[1]] = img_resized\n",
    "    \n",
    "    return stitched"
   ]
  },
  {
   "cell_type": "code",
   "execution_count": 38,
   "metadata": {},
   "outputs": [
    {
     "name": "stdout",
     "output_type": "stream",
     "text": [
      "Skipping image 2 due to error: Not enough matches found: 8 (minimum required: 15)\n",
      "Skipping image 3 due to error: Not enough matches found: 10 (minimum required: 15)\n",
      "Skipping image 5 due to error: Not enough matches found: 8 (minimum required: 15)\n",
      "Skipping image 6 due to error: Not enough matches found: 10 (minimum required: 15)\n",
      "Skipping image 8 due to error: Not enough matches found: 13 (minimum required: 15)\n",
      "Skipping image 9 due to error: Not enough matches found: 12 (minimum required: 15)\n",
      "Skipping image 10 due to error: Not enough matches found: 12 (minimum required: 15)\n",
      "Skipping image 11 due to error: Not enough matches found: 14 (minimum required: 15)\n",
      "Skipping image 12 due to error: Not enough matches found: 5 (minimum required: 15)\n",
      "Skipping image 18 due to error: Not enough matches found: 14 (minimum required: 15)\n",
      "Skipping image 19 due to error: Not enough matches found: 8 (minimum required: 15)\n",
      "Skipping image 22 due to error: Not enough matches found: 7 (minimum required: 15)\n",
      "Skipping image 23 due to error: Not enough matches found: 10 (minimum required: 15)\n",
      "Skipping image 26 due to error: Not enough matches found: 14 (minimum required: 15)\n",
      "Skipping image 29 due to error: Not enough matches found: 3 (minimum required: 15)\n",
      "Skipping image 30 due to error: Not enough matches found: 2 (minimum required: 15)\n",
      "Skipping image 31 due to error: Not enough matches found: 14 (minimum required: 15)\n",
      "Skipping image 38 due to error: Not enough matches found: 4 (minimum required: 15)\n",
      "Skipping image 39 due to error: Not enough matches found: 6 (minimum required: 15)\n",
      "Execution time: 99.67 seconds\n"
     ]
    },
    {
     "data": {
      "image/png": "[encoded data removed]",
      "text/plain": [
       "<Figure size 2000x1000 with 1 Axes>"
      ]
     },
     "metadata": {},
     "output_type": "display_data"
    },
    {
     "name": "stdout",
     "output_type": "stream",
     "text": [
      "Saved stitched image to ../output/stitched_image.jpg\n"
     ]
    }
   ],
   "source": [
    "try:\n",
    "    stitched_image = custom_stitch([cv2.cvtColor(img, cv2.COLOR_RGB2BGR) for img in preprocessed_images_subset], min_matches=15)\n",
    "except Exception as e:\n",
    "    print(f\"Error during stitching: {e}\")\n",
    "finally:\n",
    "    end_time = time.time()\n",
    "    execution_time = end_time - start_time\n",
    "    print(f\"Execution time: {execution_time:.2f} seconds\")\n",
    "\n",
    "if stitched_image is not None and execution_time <= max_execution_time:\n",
    "    plt.figure(figsize=(20, 10))\n",
    "    plt.imshow(cv2.cvtColor(stitched_image, cv2.COLOR_BGR2RGB))\n",
    "    plt.title(\"Stitched 360 Degree View\")\n",
    "    plt.axis('off')\n",
    "    plt.show()\n",
    "    \n",
    "    cv2.imwrite(\"../output/stitched_image.jpg\", stitched_image)\n",
    "    print(\"Saved stitched image to ../output/stitched_image.jpg\")\n",
    "else:\n",
    "    print(\"Stitching failed or took too long. Try with fewer images or lower resolution.\")"
   ]
  }
 ],
 "metadata": {
  "kernelspec": {
   "display_name": "base",
   "language": "python",
   "name": "python3"
  },
  "language_info": {
   "codemirror_mode": {
    "name": "ipython",
    "version": 3
   },
   "file_extension": ".py",
   "mimetype": "text/x-python",
   "name": "python",
   "nbconvert_exporter": "python",
   "pygments_lexer": "ipython3",
   "version": "3.12.3"
  }
 },
 "nbformat": 4,
 "nbformat_minor": 2
}
