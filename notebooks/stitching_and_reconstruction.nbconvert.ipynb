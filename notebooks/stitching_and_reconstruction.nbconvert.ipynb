{
 "cells": [
  {
   "cell_type": "code",
   "execution_count": 13,
   "metadata": {
    "execution": {
     "iopub.execute_input": "2024-08-24T11:59:45.183111Z",
     "iopub.status.busy": "2024-08-24T11:59:45.183111Z",
     "iopub.status.idle": "2024-08-24T11:59:46.172639Z",
     "shell.execute_reply": "2024-08-24T11:59:46.172639Z"
    }
   },
   "outputs": [],
   "source": [
    "import cv2\n",
    "import numpy as np\n",
    "import matplotlib.pyplot as plt\n",
    "import os\n",
    "%matplotlib inline\n"
   ]
  },
  {
   "cell_type": "code",
   "execution_count": 14,
   "metadata": {},
   "outputs": [],
   "source": [
    "def load_preprocessed_images(directory):\n",
    "    images = []\n",
    "    for i in range(1, 49):\n",
    "        path = os.path.join(directory, f\"img{i}.jpg\")\n",
    "        img = cv2.imread(path)\n",
    "        if img is not None:\n",
    "            images.append(img)\n",
    "        else:\n",
    "            print(f\"Impossible de charger l'image {path}\")\n",
    "    return images"
   ]
  },
  {
   "cell_type": "code",
   "execution_count": 15,
   "metadata": {},
   "outputs": [],
   "source": [
    "input_dir = \"../data/preprocessed/\"\n",
    "images = load_preprocessed_images(input_dir)"
   ]
  },
  {
   "cell_type": "code",
   "execution_count": 16,
   "metadata": {},
   "outputs": [
    {
     "name": "stdout",
     "output_type": "stream",
     "text": [
      "Nombre d'images chargées : 48\n"
     ]
    }
   ],
   "source": [
    "print(f\"Nombre d'images chargées : {len(images)}\")"
   ]
  },
  {
   "cell_type": "code",
   "execution_count": 17,
   "metadata": {},
   "outputs": [],
   "source": [
    "def stitch_images(images):\n",
    "    stitcher = cv2.Stitcher.create()\n",
    "    status, panorama = stitcher.stitch(images)\n",
    "    \n",
    "    if status == cv2.Stitcher_OK:\n",
    "        return panorama\n",
    "    else:\n",
    "        print(f\"Le stitching a échoué. Code d'erreur : {status}\")\n",
    "        return None"
   ]
  },
  {
   "cell_type": "code",
   "execution_count": 18,
   "metadata": {},
   "outputs": [
    {
     "name": "stdout",
     "output_type": "stream",
     "text": [
      "Le stitching a échoué. Code d'erreur : 3\n"
     ]
    }
   ],
   "source": [
    "panorama = stitch_images(images)"
   ]
  },
  {
   "cell_type": "code",
   "execution_count": 19,
   "metadata": {},
   "outputs": [
    {
     "name": "stdout",
     "output_type": "stream",
     "text": [
      "Impossible de créer le panorama\n"
     ]
    }
   ],
   "source": [
    "if panorama is not None:\n",
    "    plt.figure(figsize=(20, 10))\n",
    "    plt.imshow(cv2.cvtColor(panorama, cv2.COLOR_BGR2RGB))\n",
    "    plt.title(\"Panorama stitché\")\n",
    "    plt.axis('off')\n",
    "    plt.show()\n",
    "    \n",
    "    output_dir = \"../output/\"\n",
    "    os.makedirs(output_dir, exist_ok=True)\n",
    "    output_path = os.path.join(output_dir, \"stitched_panorama.jpg\")\n",
    "    cv2.imwrite(output_path, panorama)\n",
    "    print(f\"Panorama sauvegardé dans {output_path}\")\n",
    "else:\n",
    "    print(\"Impossible de créer le panorama\")"
   ]
  },
  {
   "cell_type": "code",
   "execution_count": 20,
   "metadata": {},
   "outputs": [],
   "source": [
    "def simple_3d_reconstruction(images):\n",
    "    sift = cv2.SIFT_create()\n",
    "    \n",
    "    keypoints_list = []\n",
    "    descriptors_list = []\n",
    "    for img in images:\n",
    "        gray = cv2.cvtColor(img, cv2.COLOR_BGR2GRAY)\n",
    "        kp, des = sift.detectAndCompute(gray, None)\n",
    "        keypoints_list.append(kp)\n",
    "        descriptors_list.append(des)\n",
    "    \n",
    "    matcher = cv2.BFMatcher()\n",
    "    transformations = []\n",
    "    for i in range(len(images) - 1):\n",
    "        matches = matcher.knnMatch(descriptors_list[i], descriptors_list[i+1], k=2)\n",
    "        good_matches = [m for m, n in matches if m.distance < 0.7 * n.distance]\n",
    "        \n",
    "        if len(good_matches) > 10:\n",
    "            src_pts = np.float32([keypoints_list[i][m.queryIdx].pt for m in good_matches]).reshape(-1, 1, 2)\n",
    "            dst_pts = np.float32([keypoints_list[i+1][m.trainIdx].pt for m in good_matches]).reshape(-1, 1, 2)\n",
    "            M, _ = cv2.findHomography(src_pts, dst_pts, cv2.RANSAC, 5.0)\n",
    "            transformations.append(M)\n",
    "        else:\n",
    "            print(f\"Pas assez de bons matches entre les images {i} et {i+1}\")\n",
    "            transformations.append(np.eye(3))\n",
    "    \n",
    "    return transformations\n"
   ]
  },
  {
   "cell_type": "code",
   "execution_count": 21,
   "metadata": {},
   "outputs": [],
   "source": [
    "transformations = simple_3d_reconstruction(images)"
   ]
  },
  {
   "cell_type": "code",
   "execution_count": 22,
   "metadata": {},
   "outputs": [],
   "source": [
    "output_dir = \"../output/\"\n",
    "os.makedirs(output_dir, exist_ok=True)"
   ]
  },
  {
   "cell_type": "code",
   "execution_count": 23,
   "metadata": {},
   "outputs": [
    {
     "name": "stdout",
     "output_type": "stream",
     "text": [
      "Transformations sauvegardées dans ../output/transformations.npy\n"
     ]
    }
   ],
   "source": [
    "output_path = os.path.join(output_dir, \"transformations.npy\")\n",
    "np.save(output_path, transformations)\n",
    "print(f\"Transformations sauvegardées dans {output_path}\")"
   ]
  }
 ],
 "metadata": {
  "kernelspec": {
   "display_name": "base",
   "language": "python",
   "name": "python3"
  },
  "language_info": {
   "codemirror_mode": {
    "name": "ipython",
    "version": 3
   },
   "file_extension": ".py",
   "mimetype": "text/x-python",
   "name": "python",
   "nbconvert_exporter": "python",
   "pygments_lexer": "ipython3",
   "version": "3.12.3"
  }
 },
 "nbformat": 4,
 "nbformat_minor": 2
}
